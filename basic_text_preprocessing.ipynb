{
 "cells": [
  {
   "cell_type": "markdown",
   "metadata": {},
   "source": [
    "basic prepoccessing"
   ]
  },
  {
   "cell_type": "code",
   "execution_count": 1,
   "metadata": {},
   "outputs": [
    {
     "name": "stdout",
     "output_type": "stream",
     "text": [
      "showing info https://raw.githubusercontent.com/nltk/nltk_data/gh-pages/index.xml\n"
     ]
    },
    {
     "data": {
      "text/plain": [
       "True"
      ]
     },
     "execution_count": 1,
     "metadata": {},
     "output_type": "execute_result"
    }
   ],
   "source": [
    "import nltk\n",
    "nltk.download()"
   ]
  },
  {
   "cell_type": "markdown",
   "metadata": {},
   "source": [
    "Case folding (penyetaraan kapital->lowercase)"
   ]
  },
  {
   "cell_type": "code",
   "execution_count": 2,
   "metadata": {},
   "outputs": [
    {
     "name": "stdout",
     "output_type": "stream",
     "text": [
      "pemerintah mnerapkan psbb untuk menangani virus corona.\n"
     ]
    }
   ],
   "source": [
    "sentence = \"Pemerintah mnerapkan PSBB untuk menangani Virus Corona.\"\n",
    "\n",
    "# gunakan fungsi .lower()\n",
    "lowercase_sentence = sentence.lower()\n",
    "\n",
    "print(lowercase_sentence)"
   ]
  },
  {
   "cell_type": "markdown",
   "metadata": {},
   "source": [
    "Tokenizing (pemecahan perkata Selain itu pada tahap inijuga akan dilakukan proses removing number, whitespace dan puctuation (tanda baca).)"
   ]
  },
  {
   "cell_type": "code",
   "execution_count": null,
   "metadata": {},
   "outputs": [
    {
     "name": "stdout",
     "output_type": "stream",
     "text": [
      "Case Folding Result : \n",
      "\n",
      "sebelumnya, \n",
      " kasus positif virus corona pada 24 april sebanyak 8.211 orang. \n",
      " jumlah pasien sembuh corona di ri ada 1.002 orang dan meninggal 689 orang.\n",
      "\n",
      "\n",
      "\n",
      "\n",
      "Tokenizing Result : \n",
      "\n",
      "['sebelumnya', 'kasus', 'positif', 'virus', 'corona', 'pada', 'april', 'sebanyak', 'orang', 'jumlah', 'pasien', 'sembuh', 'corona', 'di', 'ri', 'ada', 'orang', 'dan', 'meninggal', 'orang']\n"
     ]
    }
   ],
   "source": [
    "\n",
    "import string\n",
    "import re #regex library\n",
    "\n",
    "# import word_tokenize from NLTK\n",
    "from nltk.tokenize import word_tokenize\n",
    "\n",
    "\n",
    "\n",
    "# sentence input\n",
    "sentence = \"Sebelumnya, \\n kasus positif virus Corona pada 24 April sebanyak 8.211 orang. \\n Jumlah pasien sembuh Corona di RI ada 1.002 orang dan meninggal 689 orang.\"\n",
    "\n",
    "\n",
    "\n",
    "# ------ Case Folding --------\n",
    "# gunakan fungsi .lower()\n",
    "lowercase_sentence = sentence.lower()\n",
    "\n",
    "print('Case Folding Result : \\n')\n",
    "print(lowercase_sentence)\n",
    "print('\\n\\n\\n')\n",
    "\n",
    "# ------ Tokenizing ---------\n",
    "#remove angka\n",
    "lowercase_sentence = re.sub(r\"\\d+\", \"\", lowercase_sentence)\n",
    "\n",
    "#remove punctuation(simbol)\n",
    "lowercase_sentence = lowercase_sentence.translate(str.maketrans(\"\",\"\",string.punctuation))\n",
    "\n",
    "#remove whitespace leading & trailing\n",
    "lowercase_sentence = lowercase_sentence.strip()\n",
    "\n",
    "#remove multiple whitespace into single whitespace\n",
    "lowercase_sentence = re.sub(r'\\s+',' ',lowercase_sentence)\n",
    "\n",
    "\n",
    "tokens = nltk.tokenize.word_tokenize(lowercase_sentence) #.word_tokenize()->fungsi untuk tokenizing\n",
    "\n",
    "print('Tokenizing Result : \\n')\n",
    "print(tokens)"
   ]
  },
  {
   "cell_type": "markdown",
   "metadata": {},
   "source": [
    "reqdist(cek kemunculan suatu kata)"
   ]
  },
  {
   "cell_type": "code",
   "execution_count": 4,
   "metadata": {},
   "outputs": [
    {
     "name": "stdout",
     "output_type": "stream",
     "text": [
      "Case Folding Result : \n",
      "\n",
      "sebelumnya, \n",
      " kasus positif virus corona pada 24 april sebanyak 8.211 orang. \n",
      " jumlah pasien sembuh corona di ri ada 1.002 orang dan meninggal 689 orang.\n",
      "\n",
      "\n",
      "\n",
      "\n",
      "Tokenizing Result : \n",
      "\n",
      "['sebelumnya', 'kasus', 'positif', 'virus', 'corona', 'pada', 'april', 'sebanyak', 'orang', 'jumlah', 'pasien', 'sembuh', 'corona', 'di', 'ri', 'ada', 'orang', 'dan', 'meninggal', 'orang']\n",
      "\n",
      "\n",
      "\n",
      "\n",
      "Frequency Tokens : \n",
      "\n",
      "[('orang', 3), ('corona', 2), ('sebelumnya', 1), ('kasus', 1), ('positif', 1), ('virus', 1), ('pada', 1), ('april', 1), ('sebanyak', 1), ('jumlah', 1), ('pasien', 1), ('sembuh', 1), ('di', 1), ('ri', 1), ('ada', 1), ('dan', 1), ('meninggal', 1)]\n"
     ]
    }
   ],
   "source": [
    "import string\n",
    "import re #regex library\n",
    "\n",
    "# import word_tokenize & FreqDist from NLTK\n",
    "from nltk.tokenize import word_tokenize\n",
    "from nltk.probability import FreqDist\n",
    "\n",
    "\n",
    "# sentence input\n",
    "sentence = \"Sebelumnya, \\n kasus positif virus Corona pada 24 April sebanyak 8.211 orang. \\n Jumlah pasien sembuh Corona di RI ada 1.002 orang dan meninggal 689 orang.\"\n",
    "\n",
    "\n",
    "\n",
    "# ------ Case Folding --------\n",
    "# gunakan fungsi .lower()\n",
    "lowercase_sentence = sentence.lower()\n",
    "\n",
    "print('Case Folding Result : \\n')\n",
    "print(lowercase_sentence)\n",
    "print('\\n\\n\\n')\n",
    "\n",
    "# ------ Tokenizing ---------\n",
    "#remove angka\n",
    "lowercase_sentence = re.sub(r\"\\d+\", \"\", lowercase_sentence)\n",
    "\n",
    "#remove punctuation\n",
    "lowercase_sentence = lowercase_sentence.translate(str.maketrans(\"\",\"\",string.punctuation))\n",
    "\n",
    "#remove whitespace leading & trailing\n",
    "lowercase_sentence = lowercase_sentence.strip()\n",
    "\n",
    "#remove multiple whitespace into single whitespace\n",
    "lowercase_sentence = re.sub(r'\\s+',' ',lowercase_sentence)\n",
    "\n",
    "\n",
    "tokens = nltk.tokenize.word_tokenize(lowercase_sentence)\n",
    "\n",
    "print('Tokenizing Result : \\n')\n",
    "print(tokens)\n",
    "print('\\n\\n\\n')\n",
    "\n",
    "freq_tokens = nltk.FreqDist(tokens) #hitung frekuensi kemunculan kata setelah di word_tokenizing(pemisahan kata)\n",
    "\n",
    "print('Frequency Tokens : \\n')\n",
    "print(freq_tokens.most_common())"
   ]
  },
  {
   "cell_type": "markdown",
   "metadata": {},
   "source": [
    "visualisasi freq_tokens"
   ]
  },
  {
   "cell_type": "code",
   "execution_count": 6,
   "metadata": {},
   "outputs": [
    {
     "data": {
      "text/plain": [
       "<Axes: xlabel='Key'>"
      ]
     },
     "execution_count": 6,
     "metadata": {},
     "output_type": "execute_result"
    },
    {
     "data": {
      "image/png": "[encoded data removed]",
      "text/plain": [
       "<Figure size 640x480 with 1 Axes>"
      ]
     },
     "metadata": {},
     "output_type": "display_data"
    }
   ],
   "source": [
    "import pandas as pd\n",
    "\n",
    "df_freq_tokens = pd.DataFrame.from_dict(freq_tokens, orient='index')\n",
    "df_freq_tokens.columns = ['Frequency']\n",
    "df_freq_tokens.index.name = 'Key'\n",
    "\n",
    "df_freq_tokens.plot(kind='bar')"
   ]
  },
  {
   "cell_type": "markdown",
   "metadata": {},
   "source": [
    "filltering stopword removal (menghilangkan kata umum yang memiliki frekuensi tertingi yang kemungkinan tidak memiliki makna)"
   ]
  },
  {
   "cell_type": "code",
   "execution_count": 7,
   "metadata": {},
   "outputs": [
    {
     "name": "stdout",
     "output_type": "stream",
     "text": [
      "['orang', 'corona', 'positif', 'virus', 'april', 'pasien', 'sembuh', 'ri', 'meninggal']\n"
     ]
    }
   ],
   "source": [
    "from nltk.corpus import stopwords\n",
    "\n",
    "# tokenize text\n",
    "freq_tokens\n",
    "\n",
    "# get Indonesian stopword\n",
    "list_stopwords = set(stopwords.words('indonesian'))\n",
    "\n",
    "#remove stopword pada list token\n",
    "tokens_without_stopword = [word for word in freq_tokens if not word in list_stopwords]\n",
    "\n",
    "\n",
    "print(tokens_without_stopword)"
   ]
  },
  {
   "cell_type": "markdown",
   "metadata": {},
   "source": [
    "stemming nltk belum support indonesian language"
   ]
  },
  {
   "cell_type": "code",
   "execution_count": 8,
   "metadata": {},
   "outputs": [
    {
     "data": {
      "text/plain": [
       "['caresses : caress',\n",
       " 'flies : fli',\n",
       " 'dies : die',\n",
       " 'mules : mule',\n",
       " 'denied : deni',\n",
       " 'died : die',\n",
       " 'agreed : agre',\n",
       " 'owned : own',\n",
       " 'humbled : humbl',\n",
       " 'sized : size',\n",
       " 'meeting : meet',\n",
       " 'stating : state',\n",
       " 'siezing : siez',\n",
       " 'itemization : item',\n",
       " 'sensational : sensat',\n",
       " 'traditional : tradit',\n",
       " 'reference : refer',\n",
       " 'colonizer : colon',\n",
       " 'plotted : plot']"
      ]
     },
     "execution_count": 8,
     "metadata": {},
     "output_type": "execute_result"
    }
   ],
   "source": [
    "from nltk.stem import PorterStemmer\n",
    "\n",
    "stemmer = PorterStemmer()\n",
    "\n",
    "plurals = ['caresses', 'flies', 'dies', 'mules', 'denied',\n",
    "        'died', 'agreed', 'owned', 'humbled', 'sized',\n",
    "        'meeting', 'stating', 'siezing', 'itemization',\n",
    "        'sensational', 'traditional', 'reference', 'colonizer',\n",
    "        'plotted']\n",
    "\n",
    "singles = [(plural + \" : \" + stemmer.stem(plural)) for plural in plurals]\n",
    "\n",
    "singles"
   ]
  },
  {
   "cell_type": "markdown",
   "metadata": {},
   "source": [
    "stemming(menghapus kata imbuhan diawal dan diakhir) indonesian language emenggunakan library sastrawi"
   ]
  },
  {
   "cell_type": "code",
   "execution_count": 9,
   "metadata": {},
   "outputs": [
    {
     "data": {
      "text/plain": [
       "['orang : orang',\n",
       " 'corona : corona',\n",
       " 'positif : positif',\n",
       " 'virus : virus',\n",
       " 'april : april',\n",
       " 'pasien : pasien',\n",
       " 'sembuh : sembuh',\n",
       " 'ri : ri',\n",
       " 'meninggal : tinggal']"
      ]
     },
     "execution_count": 9,
     "metadata": {},
     "output_type": "execute_result"
    }
   ],
   "source": [
    "# import Sastrawi package\n",
    "from Sastrawi.Stemmer.StemmerFactory import StemmerFactory\n",
    "\n",
    "# create stemmer\n",
    "factory = StemmerFactory()\n",
    "stemmer = factory.create_stemmer()\n",
    "\n",
    "# token without stopword\n",
    "list_tokens = tokens_without_stopword\n",
    "\n",
    "# stem\n",
    "output   = [(token + \" : \" + stemmer.stem(token)) for token in list_tokens]\n",
    "\n",
    "output"
   ]
  }
 ],
 "metadata": {
  "kernelspec": {
   "display_name": ".venv",
   "language": "python",
   "name": "python3"
  },
  "language_info": {
   "codemirror_mode": {
    "name": "ipython",
    "version": 3
   },
   "file_extension": ".py",
   "mimetype": "text/x-python",
   "name": "python",
   "nbconvert_exporter": "python",
   "pygments_lexer": "ipython3",
   "version": "3.11.2"
  }
 },
 "nbformat": 4,
 "nbformat_minor": 2
}
